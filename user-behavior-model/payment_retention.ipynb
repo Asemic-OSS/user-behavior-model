{
 "cells": [
  {
   "cell_type": "code",
   "execution_count": 1,
   "metadata": {},
   "outputs": [
    {
     "data": {
      "text/plain": [
       "<duckdb.duckdb.DuckDBPyConnection at 0x10a4544b0>"
      ]
     },
     "execution_count": 1,
     "metadata": {},
     "output_type": "execute_result"
    }
   ],
   "source": [
    "import duckdb\n",
    "from queries_and_graphs import *\n",
    "\n",
    "\n",
    "# Connect to an in-memory database\n",
    "con = duckdb.connect(':memory:')\n",
    "\n",
    "# Read the CSV file\n",
    "con.execute(\"CREATE TABLE dataset AS SELECT * FROM read_csv('data/dataset.csv')\")\n"
   ]
  },
  {
   "cell_type": "code",
   "execution_count": null,
   "metadata": {},
   "outputs": [],
   "source": [
    "df = con.execute(payment_retention_query).df()\n",
    "df = df[(df['cohort_day'] > 0) & (df['cohort_day'] < 180)]\n",
    "\n",
    "\n"
   ]
  }
 ],
 "metadata": {
  "kernelspec": {
   "display_name": "Python 3",
   "language": "python",
   "name": "python3"
  },
  "language_info": {
   "codemirror_mode": {
    "name": "ipython",
    "version": 3
   },
   "file_extension": ".py",
   "mimetype": "text/x-python",
   "name": "python",
   "nbconvert_exporter": "python",
   "pygments_lexer": "ipython3",
   "version": "3.12.0"
  }
 },
 "nbformat": 4,
 "nbformat_minor": 2
}
